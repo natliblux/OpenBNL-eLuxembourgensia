{
 "cells": [
  {
   "cell_type": "markdown",
   "id": "0ee911de",
   "metadata": {},
   "source": [
    "# Querying eLuxembourgensia\n",
    "This notebook will illustrate how to use the eLuxembourgensia digital collection. \n",
    "First, we will request the user (you) to enter a name of a person. We will then query Wikidata for the person. \n",
    "If there are multiple entries, then the user will be requested to select the desired result. \n",
    "We will then use the birth and death dates of the selected person to query the eLuxembourgensia collection and display\n",
    "the newspapers that were published during that person's lifetime.\n",
    "\n"
   ]
  },
  {
   "cell_type": "code",
   "execution_count": 1,
   "id": "0fd05d9d",
   "metadata": {},
   "outputs": [],
   "source": [
    "# A function to fetch the Wikidata API\n",
    "import requests\n",
    "\n",
    "def fetch_wikidata(params):\n",
    "    url = 'https://www.wikidata.org/w/api.php'\n",
    "    try:\n",
    "        return requests.get(url, params=params)\n",
    "    except:\n",
    "        return 'ERR'"
   ]
  },
  {
   "cell_type": "code",
   "execution_count": 2,
   "id": "dc3d0a0c",
   "metadata": {},
   "outputs": [],
   "source": [
    "# Request a name from the user\n",
    "name = input(\"Enter a name to search for in Wikidata:\")"
   ]
  },
  {
   "cell_type": "code",
   "execution_count": null,
   "id": "6d8a5959",
   "metadata": {},
   "outputs": [
    {
     "data": {
      "text/plain": [
       "{'searchinfo': {'search': 'Paul Eyschen'},\n",
       " 'search': [{'id': 'Q945406',\n",
       "   'title': 'Q945406',\n",
       "   'pageid': 895526,\n",
       "   'concepturi': 'http://www.wikidata.org/entity/Q945406',\n",
       "   'repository': 'wikidata',\n",
       "   'url': '//www.wikidata.org/wiki/Q945406',\n",
       "   'display': {'label': {'value': 'Paul Eyschen', 'language': 'en'},\n",
       "    'description': {'value': 'prime minister of Luxembourg (1841-1915)',\n",
       "     'language': 'en'}},\n",
       "   'label': 'Paul Eyschen',\n",
       "   'description': 'prime minister of Luxembourg (1841-1915)',\n",
       "   'match': {'type': 'label', 'language': 'en', 'text': 'Paul Eyschen'}},\n",
       "  {'id': 'Q13104511',\n",
       "   'title': 'Q13104511',\n",
       "   'pageid': 14648442,\n",
       "   'concepturi': 'http://www.wikidata.org/entity/Q13104511',\n",
       "   'repository': 'wikidata',\n",
       "   'url': '//www.wikidata.org/wiki/Q13104511',\n",
       "   'display': {'label': {'value': 'Monument Paul Eyschen', 'language': 'en'},\n",
       "    'description': {'value': 'monument in Stadtbredimus, Luxembourg',\n",
       "     'language': 'en'}},\n",
       "   'label': 'Monument Paul Eyschen',\n",
       "   'description': 'monument in Stadtbredimus, Luxembourg',\n",
       "   'match': {'type': 'label',\n",
       "    'language': 'lb',\n",
       "    'text': 'Paul-Eyschen-Monument zu Stadbriedemes'},\n",
       "   'aliases': ['Paul-Eyschen-Monument zu Stadbriedemes']}],\n",
       " 'success': 1}"
      ]
     },
     "execution_count": 3,
     "metadata": {},
     "output_type": "execute_result"
    }
   ],
   "source": [
    "# Build the wikidata parameters\n",
    "params = {\n",
    "        'action': 'wbsearchentities',\n",
    "        'format': 'json',\n",
    "        'search': name,\n",
    "        'language': 'en'\n",
    "    }\n",
    "\n",
    "# Fetch the data from Wikidata\n",
    "data = fetch_wikidata(params)\n",
    "data\n",
    "\n",
    "# Convert the response to JSON\n",
    "if data!= 'ERR':\n",
    "    data = data.json()\n",
    "\n",
    "# for testing purposes, show the data retrieved    \n",
    "data"
   ]
  }
 ],
 "metadata": {
  "kernelspec": {
   "display_name": ".conda",
   "language": "python",
   "name": "python3"
  },
  "language_info": {
   "codemirror_mode": {
    "name": "ipython",
    "version": 3
   },
   "file_extension": ".py",
   "mimetype": "text/x-python",
   "name": "python",
   "nbconvert_exporter": "python",
   "pygments_lexer": "ipython3",
   "version": "3.12.9"
  }
 },
 "nbformat": 4,
 "nbformat_minor": 5
}
