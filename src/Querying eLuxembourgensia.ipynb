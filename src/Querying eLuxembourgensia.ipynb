{
 "cells": [
  {
   "cell_type": "markdown",
   "id": "0ee911de",
   "metadata": {},
   "source": [
    "# Querying eLuxembourgensia\n",
    "This notebook will illustrate how to use the eLuxembourgensia digital collection. \n",
    "First, we will request the user (you) to enter a name of a person. We will then query Wikidata for the person. \n",
    "If there are multiple entries, then the user will be requested to select the desired result. \n",
    "We will then use the birth and death dates of the selected person to query the eLuxembourgensia collection and display\n",
    "the newspapers that were published during that person's lifetime.\n",
    "\n"
   ]
  },
  {
   "cell_type": "markdown",
   "id": "61238e4e-0840-4265-a7ea-cb7151a39946",
   "metadata": {},
   "source": [
    "## Requirements\n",
    "* Python 3.12\n",
    "* [requests](https://pypi.org/project/requests/): HTTP library to run HTTP requests\n",
    "* [pandas](https://pandas.pydata.org/): format the output into tabular layout\n",
    "* [yarl](https://pypi.org/project/yarl/): format the output URL into a clickable URL link"
   ]
  },
  {
   "cell_type": "code",
   "execution_count": null,
   "id": "afc1f474-a18b-44d6-b19a-9cfe88080a68",
   "metadata": {},
   "outputs": [],
   "source": [
    "%pip install pandas\n",
    "%pip install yarl"
   ]
  },
  {
   "cell_type": "code",
   "execution_count": null,
   "id": "0fd05d9d",
   "metadata": {},
   "outputs": [],
   "source": [
    "# A function to fetch data with the Wikidata API\n",
    "import requests\n",
    "\n",
    "def fetch_wikidata(params):\n",
    "    url = 'https://www.wikidata.org/w/api.php'\n",
    "    try:\n",
    "        return requests.get(url, params=params)\n",
    "    except:\n",
    "        return 'ERR'"
   ]
  },
  {
   "cell_type": "code",
   "execution_count": null,
   "id": "dc3d0a0c",
   "metadata": {},
   "outputs": [],
   "source": [
    "# Request a name from the user\n",
    "name = ''\n",
    "while (name==''):\n",
    "    name = input(\"Enter a name to search for in Wikidata:\")\n",
    "    if '' == name:\n",
    "        print('Please enter a name.')"
   ]
  },
  {
   "cell_type": "code",
   "execution_count": null,
   "id": "6d8a5959",
   "metadata": {},
   "outputs": [],
   "source": [
    "# Build the wikidata parameters\n",
    "# Call wbsearchentities function with our name to search\n",
    "# Output the results in English and using the json format\n",
    "params = {\n",
    "        'action': 'wbsearchentities',\n",
    "        'format': 'json',\n",
    "        'search': name,\n",
    "        'language': 'en'\n",
    "    }\n",
    "\n",
    "# Fetch the data from Wikidata\n",
    "wikidata_results = fetch_wikidata(params)\n",
    "\n",
    "# if no error, convert the response to JSON\n",
    "if wikidata_results == 'ERR' or 'error' in wikidata_results.text:\n",
    "    print(wikidata_results.text)\n",
    "else: \n",
    "    wikidata_results = wikidata_results.json()"
   ]
  },
  {
   "cell_type": "code",
   "execution_count": null,
   "id": "967c94b6",
   "metadata": {},
   "outputs": [],
   "source": [
    "def selectFromDict(options):\n",
    "    index = 0\n",
    "    indexValidList = []\n",
    "    print('Select an option:')\n",
    "    for optionName in options:\n",
    "        index = index + 1\n",
    "        indexValidList.extend([options[optionName]])\n",
    "        print(str(index) + ') ' + optionName)\n",
    "    inputValid = False\n",
    "    while not inputValid:\n",
    "        inputRaw = input('Option: ')\n",
    "        inputNo = int(inputRaw) - 1\n",
    "        if inputNo > -1 and inputNo < len(indexValidList):\n",
    "            selected = indexValidList[inputNo]\n",
    "            #print('Selected ' +  name + ': ' + selected)\n",
    "            inputValid = True\n",
    "            break\n",
    "        else:\n",
    "            print('Please select a valid option number.')\n",
    "    return selected\n",
    "\n",
    "options= {}\n",
    "for entry in wikidata_results['search']:\n",
    "    label = entry['label']\n",
    "    id = entry['id']\n",
    "    options[label] = id\n",
    "\n",
    "if len(options) > 1:\n",
    "    selected_id = selectFromDict(options)\n",
    "else:\n",
    "    selected_id = id \n",
    "\n",
    "for label, id in options.items():\n",
    "    if id == selected_id:\n",
    "        selected_entry = label\n",
    "        break"
   ]
  },
  {
   "cell_type": "code",
   "execution_count": null,
   "id": "fc887f96-6b26-4e72-8ab9-8cb6506b626a",
   "metadata": {},
   "outputs": [],
   "source": [
    "# Retrieve the birth and death date from wikidata for the given id\n",
    "\n",
    "# Create parameters\n",
    "params = {\n",
    "        'action': 'wbgetentities',\n",
    "        'ids':selected_id, \n",
    "        'format': 'json',\n",
    "        'languages': 'en'\n",
    "    }\n",
    "\n",
    "# fetch the API\n",
    "wikidata_selected_entry = fetch_wikidata(params)\n",
    "\n",
    "# Convert the response to JSON\n",
    "if wikidata_selected_entry != 'ERR':\n",
    "    wikidata_selected_entry = wikidata_selected_entry.json()\n"
   ]
  },
  {
   "cell_type": "code",
   "execution_count": null,
   "id": "c0eff49f-d11a-41ee-9db8-5c734705a21d",
   "metadata": {},
   "outputs": [],
   "source": [
    "# P569 = birth date\n",
    "birthdate = wikidata_selected_entry[\"entities\"][selected_id][\"claims\"][\"P569\"][0][\"mainsnak\"][\"datavalue\"][\"value\"][\"time\"]\n",
    "# parse out the date as yyyy-mm-dd\n",
    "birthdate = birthdate[1:11]"
   ]
  },
  {
   "cell_type": "code",
   "execution_count": null,
   "id": "fa7040dd-6399-46a5-b0a9-9c9615141219",
   "metadata": {},
   "outputs": [],
   "source": [
    "# P570 = death date\n",
    "if 'P570' in wikidata_selected_entry[\"entities\"][selected_id][\"claims\"]: \n",
    "    deathdate = wikidata_selected_entry[\"entities\"][selected_id][\"claims\"][\"P570\"][0][\"mainsnak\"][\"datavalue\"][\"value\"][\"time\"]\n",
    "    deathdate = deathdate[1:11]\n",
    "    print_deathdate = deathdate\n",
    "else:\n",
    "    deathdate = \"9999-12-31\"\n",
    "    print_deathdate = \"\""
   ]
  },
  {
   "cell_type": "code",
   "execution_count": null,
   "id": "144ffcca-377d-480b-bec7-889a4495563b",
   "metadata": {},
   "outputs": [],
   "source": [
    "# get the BnL eLuxembourgensia collection\n",
    "elux_collection = requests.get(\"https://viewer.eluxemburgensia.lu/api/viewer2/cms/digitalcollections\")\n",
    "elux_collection = elux_collection.json()"
   ]
  },
  {
   "cell_type": "code",
   "execution_count": null,
   "id": "1b093c4e-9384-4995-94dc-389cef1d8316",
   "metadata": {},
   "outputs": [],
   "source": [
    "import pandas as pd\n",
    "from yarl import URL\n",
    "\n",
    "# select only those newspapers published between the birth date and death date of the person  \n",
    "print(\"Newspapers published during \" + selected_entry + \"'s lifetime (\" + birthdate + \" - \" + print_deathdate + \"):\")\n",
    "\n",
    "# to display all the rows in the table - otherwise, some rows are hidden\n",
    "pd.set_option('display.max_rows', None)\n",
    "\n",
    "filtered_newspapers = []\n",
    "for newspaper in elux_collection[\"data\"]:\n",
    "    newspaper_dict = {}\n",
    "    startdate = newspaper[\"startdate\"]\n",
    "    try:\n",
    "        enddate = newspaper[\"enddate\"]\n",
    "        print_enddate = enddate\n",
    "    except:\n",
    "        enddate = \"9999-12-31\"\n",
    "        print_enddate = \"\"\n",
    "    if startdate <= deathdate or enddate >= birthdate:\n",
    "        newspaper_dict = {'Title': newspaper[\"title\"],'Start Date': startdate, 'End Date': print_enddate, 'Link': \"https://persist.lu/\" + newspaper[\"ark\"]}\n",
    "        filtered_newspapers.append(newspaper_dict)\n",
    "\n",
    "df = pd.DataFrame(filtered_newspapers, columns=[\"Title\", \"Start Date\", \"End Date\", \"Link\"])\n",
    "\n",
    "def make_clickable(val):\n",
    "    return f'<a target=\"_blank\" href=\"{val}\">{val}</a>'\n",
    "    \n",
    "dfStyler = df.style.set_properties(**{'text-align': 'left'})\n",
    "dfStyler.set_table_styles([dict(selector='th', props=[('text-align', 'left')])])\n",
    "dfStyler.format({'Link': make_clickable})\n"
   ]
  }
 ],
 "metadata": {
  "kernelspec": {
   "display_name": "Python 3 (ipykernel)",
   "language": "python",
   "name": "python3"
  },
  "language_info": {
   "codemirror_mode": {
    "name": "ipython",
    "version": 3
   },
   "file_extension": ".py",
   "mimetype": "text/x-python",
   "name": "python",
   "nbconvert_exporter": "python",
   "pygments_lexer": "ipython3",
   "version": "3.12.7"
  }
 },
 "nbformat": 4,
 "nbformat_minor": 5
}
